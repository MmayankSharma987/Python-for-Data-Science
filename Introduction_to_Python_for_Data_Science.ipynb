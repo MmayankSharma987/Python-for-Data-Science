{
  "nbformat": 4,
  "nbformat_minor": 0,
  "metadata": {
    "colab": {
      "provenance": [],
      "collapsed_sections": [
        "49vINUBrhy4R",
        "6xEaoiTAxYtu",
        "xGQ_KORnyZB3",
        "CZcJpCx-zSwi",
        "EBPicZFmz2_e",
        "9NhgVUiQ33SQ",
        "B0f_bo0F4kXo",
        "8463GrLX5d-G",
        "du_Ybq9d8Ruq",
        "rSWGW7tf84B7"
      ]
    },
    "kernelspec": {
      "name": "python3",
      "display_name": "Python 3"
    },
    "language_info": {
      "name": "python"
    }
  },
  "cells": [
    {
      "cell_type": "markdown",
      "source": [
        "**Python** is **dynamically typed programing language**. We don't have to initialise variable with specific data type before starting coding, whatever data type value has, variable consider the same data type.\n",
        "Python can be written in Jupyter notebook\n",
        "(ipynb), however Google Colaborataory is alternative online suits for writing codes in python.\n",
        "Google colab has cells, for writing python program. There are two types of cells- Code and Text. We can add more cells by clicking '+' button above. In code cells you can execute code by 'SHIFT+ENTER'. In a text we can format text.\n",
        "1. **Types of Data** are 5 types of data- Integer, Floating (numbers in decimals), Boolean (True and False), String, complex numbers (contains real number + imaginary number eg- imaginary numbers are represented as j, eg- 5+10j, 5 is real number and 10j is imaginary number).\n",
        "2.**Operators in python**- There are 3 types of operations- Arithmatic (addition+, sunstraction - , multiplication *, division /), Logical (AND &, OR |), Relational (greater than >, lesser than<, equals to ==, Not equal to !=)\n",
        "3. **Indexing in python** starts with 0, it means, first position is zeroth (0th) position and last position is -1.\n",
        "4. '**#**'- hash added infront of any sentences in **code cells** to say that its a **comment not code**, so that it won't be executed.\n",
        "5. **Variable** acts as a storage to store data, **Attributes** store multiple data. **String** is an item which we want to print, its wriiten enclosed in single (''), double (\"\") and triple inverted commas, (''' ''') is used to create multiline string. **String assigned value to variable and single equal (=) to sign is an assignment operator.**\n",
        "6. Type() will tell type of data and length len() will tell the length of charecters in data."
      ],
      "metadata": {
        "id": "gFzReD3ThkdA"
      }
    },
    {
      "cell_type": "markdown",
      "source": [
        "#1) Operations, print integers and strings, len, type and concatenate operations"
      ],
      "metadata": {
        "id": "49vINUBrhy4R"
      }
    },
    {
      "cell_type": "code",
      "execution_count": null,
      "metadata": {
        "colab": {
          "base_uri": "https://localhost:8080/"
        },
        "id": "o21as7DlhdcG",
        "outputId": "0f5712f6-468c-441d-82cb-b02e91fa1069"
      },
      "outputs": [
        {
          "output_type": "execute_result",
          "data": {
            "text/plain": [
              "4"
            ]
          },
          "metadata": {},
          "execution_count": 1
        }
      ],
      "source": [
        "2+2 # Arithmatic operations- this is adding 2 plus 2"
      ]
    },
    {
      "cell_type": "code",
      "source": [
        "(2+4)\n",
        "(4-1)\n",
        "print(2*2)\n",
        "print(8/2)\n",
        "8//2"
      ],
      "metadata": {
        "colab": {
          "base_uri": "https://localhost:8080/"
        },
        "id": "zksTdaeTh_H0",
        "outputId": "20357477-ac7e-49f0-b031-1b96f5504d70"
      },
      "execution_count": null,
      "outputs": [
        {
          "output_type": "stream",
          "name": "stdout",
          "text": [
            "4\n",
            "4.0\n"
          ]
        },
        {
          "output_type": "execute_result",
          "data": {
            "text/plain": [
              "4"
            ]
          },
          "metadata": {},
          "execution_count": 2
        }
      ]
    },
    {
      "cell_type": "code",
      "source": [
        "# python will only execute and print the last line in multi-line program without print command and it also print the output of those lines where print is stated before the command as shown above\n",
        "# In division / gives floating number while // gives integer\n",
        "print(2+4)\n",
        "print(4-1)\n",
        "print(2*2)\n",
        "print(8/2)\n",
        "print(8//2)\n",
        "print(2**2)\n",
        "type(2+4)"
      ],
      "metadata": {
        "colab": {
          "base_uri": "https://localhost:8080/"
        },
        "id": "iDrCzFOTh_Bg",
        "outputId": "15dc5e41-33a1-46ec-b4aa-81905564931c"
      },
      "execution_count": null,
      "outputs": [
        {
          "output_type": "stream",
          "name": "stdout",
          "text": [
            "6\n",
            "3\n",
            "4\n",
            "4.0\n",
            "4\n",
            "4\n"
          ]
        },
        {
          "output_type": "execute_result",
          "data": {
            "text/plain": [
              "int"
            ]
          },
          "metadata": {},
          "execution_count": 3
        }
      ]
    },
    {
      "cell_type": "code",
      "source": [
        "2>6 #Relational operations and boolean"
      ],
      "metadata": {
        "colab": {
          "base_uri": "https://localhost:8080/"
        },
        "id": "NrKmhDU-h-9s",
        "outputId": "8f6f9f7d-f99f-424d-c50b-db1a0583d69b"
      },
      "execution_count": null,
      "outputs": [
        {
          "output_type": "execute_result",
          "data": {
            "text/plain": [
              "False"
            ]
          },
          "metadata": {},
          "execution_count": 4
        }
      ]
    },
    {
      "cell_type": "code",
      "source": [
        "a=2\n",
        "b=6\n",
        "print(a>b)\n",
        "type(a>b)"
      ],
      "metadata": {
        "colab": {
          "base_uri": "https://localhost:8080/"
        },
        "id": "eCXb4sc6h-6G",
        "outputId": "62f4f546-d506-454b-dc82-dd38fdd5d3ca"
      },
      "execution_count": null,
      "outputs": [
        {
          "output_type": "stream",
          "name": "stdout",
          "text": [
            "False\n"
          ]
        },
        {
          "output_type": "execute_result",
          "data": {
            "text/plain": [
              "bool"
            ]
          },
          "metadata": {},
          "execution_count": 6
        }
      ]
    },
    {
      "cell_type": "code",
      "source": [
        "a=2\n",
        "b=2\n",
        "print(a==b)\n",
        "type(a==b)"
      ],
      "metadata": {
        "colab": {
          "base_uri": "https://localhost:8080/"
        },
        "id": "iUNOBrkxh-00",
        "outputId": "22c6b5ec-8d6f-4497-c845-3ce69269f964"
      },
      "execution_count": null,
      "outputs": [
        {
          "output_type": "stream",
          "name": "stdout",
          "text": [
            "True\n"
          ]
        },
        {
          "output_type": "execute_result",
          "data": {
            "text/plain": [
              "bool"
            ]
          },
          "metadata": {},
          "execution_count": 5
        }
      ]
    },
    {
      "cell_type": "code",
      "source": [
        "a=2\n",
        "b=3\n",
        "print(a!=b)"
      ],
      "metadata": {
        "id": "7lYZwe5eh-u4"
      },
      "execution_count": null,
      "outputs": []
    },
    {
      "cell_type": "code",
      "source": [
        "#Logical operator - And(&): operates when both the conditions are satisfied, OR(|): operateswhen anyone condition is satisfied\n",
        "a = True\n",
        "b = False\n",
        "print(a&b)\n",
        "print(a&a)\n",
        "print(b&b)\n",
        "print(b&a)"
      ],
      "metadata": {
        "colab": {
          "base_uri": "https://localhost:8080/"
        },
        "id": "RAC8y7Vzh-rg",
        "outputId": "51140fa1-3400-4569-cc96-7d8bc7a62428"
      },
      "execution_count": null,
      "outputs": [
        {
          "output_type": "stream",
          "name": "stdout",
          "text": [
            "False\n",
            "True\n",
            "False\n",
            "False\n"
          ]
        }
      ]
    },
    {
      "cell_type": "code",
      "source": [
        "# Or operator\n",
        "a = True\n",
        "b = False\n",
        "print(a|b)\n",
        "print(a|a)\n",
        "print(b|b)\n",
        "print(b|a)"
      ],
      "metadata": {
        "colab": {
          "base_uri": "https://localhost:8080/"
        },
        "id": "Q-SxAjr9h-nj",
        "outputId": "766e0aa0-4f13-421e-9d9b-9d634d7d127b"
      },
      "execution_count": null,
      "outputs": [
        {
          "output_type": "stream",
          "name": "stdout",
          "text": [
            "True\n",
            "True\n",
            "False\n",
            "True\n"
          ]
        }
      ]
    },
    {
      "cell_type": "code",
      "source": [
        "a = ('Hello World!')\n",
        "print(a)\n",
        "type(a)"
      ],
      "metadata": {
        "colab": {
          "base_uri": "https://localhost:8080/"
        },
        "id": "h1Ir0gmSh-jp",
        "outputId": "5cdce322-c8a8-446d-b170-685d541ab5a0"
      },
      "execution_count": null,
      "outputs": [
        {
          "output_type": "stream",
          "name": "stdout",
          "text": [
            "Hello World!\n"
          ]
        },
        {
          "output_type": "execute_result",
          "data": {
            "text/plain": [
              "str"
            ]
          },
          "metadata": {},
          "execution_count": 10
        }
      ]
    },
    {
      "cell_type": "code",
      "source": [
        "# to print string in lower case\n",
        "a = ('Hello world!''this is python')\n",
        "a.lower()"
      ],
      "metadata": {
        "colab": {
          "base_uri": "https://localhost:8080/",
          "height": 36
        },
        "id": "DpKAy27Ih-fQ",
        "outputId": "aa086b4b-9f1c-4618-a4ab-0d35e216dc3c"
      },
      "execution_count": null,
      "outputs": [
        {
          "output_type": "execute_result",
          "data": {
            "text/plain": [
              "'hello world!this is python'"
            ],
            "application/vnd.google.colaboratory.intrinsic+json": {
              "type": "string"
            }
          },
          "metadata": {},
          "execution_count": 13
        }
      ]
    },
    {
      "cell_type": "code",
      "source": [
        "# to print string in upper case\n",
        "a = ('Hello world!''this is python')\n",
        "a.upper()"
      ],
      "metadata": {
        "colab": {
          "base_uri": "https://localhost:8080/",
          "height": 36
        },
        "id": "LfOCSQLIh-aZ",
        "outputId": "78f638ad-4c7a-47a2-e49f-0e7965dc9e0e"
      },
      "execution_count": null,
      "outputs": [
        {
          "output_type": "execute_result",
          "data": {
            "text/plain": [
              "'HELLO WORLD!THIS IS PYTHON'"
            ],
            "application/vnd.google.colaboratory.intrinsic+json": {
              "type": "string"
            }
          },
          "metadata": {},
          "execution_count": 12
        }
      ]
    },
    {
      "cell_type": "code",
      "source": [
        "# to replace a charecter or sub-string in string\n",
        "a = ('Hello World')\n",
        "a.replace('World','Mayank')"
      ],
      "metadata": {
        "colab": {
          "base_uri": "https://localhost:8080/",
          "height": 36
        },
        "id": "sQPuZVVbh-VT",
        "outputId": "f42252dd-86db-4360-c93a-7f3ffec1e0c1"
      },
      "execution_count": null,
      "outputs": [
        {
          "output_type": "execute_result",
          "data": {
            "text/plain": [
              "'Hello Mayank'"
            ],
            "application/vnd.google.colaboratory.intrinsic+json": {
              "type": "string"
            }
          },
          "metadata": {},
          "execution_count": 11
        }
      ]
    },
    {
      "cell_type": "code",
      "source": [
        "# to count number of occurance of sub-strings\n",
        "a = ('Hello, Hello, Hello')\n",
        "a.count('Hello')"
      ],
      "metadata": {
        "colab": {
          "base_uri": "https://localhost:8080/"
        },
        "id": "B-yL4ka9h-Pk",
        "outputId": "408ea3be-440e-40cf-d69a-bc7afd767fb8"
      },
      "execution_count": null,
      "outputs": [
        {
          "output_type": "execute_result",
          "data": {
            "text/plain": [
              "3"
            ]
          },
          "metadata": {},
          "execution_count": 14
        }
      ]
    },
    {
      "cell_type": "code",
      "source": [
        "#string is case sensitive\n",
        "a = ('Hello, Hello, hello')\n",
        "a.count('hello')"
      ],
      "metadata": {
        "colab": {
          "base_uri": "https://localhost:8080/"
        },
        "id": "qlz3IR8wh-IJ",
        "outputId": "ef02b90b-7761-44ea-cc1f-1e8ca1196318"
      },
      "execution_count": null,
      "outputs": [
        {
          "output_type": "execute_result",
          "data": {
            "text/plain": [
              "1"
            ]
          },
          "metadata": {},
          "execution_count": 15
        }
      ]
    },
    {
      "cell_type": "code",
      "source": [
        "a =(1,1,1,1,2,2,2,2,1,2,1,2,1)\n",
        "a.count(1)"
      ],
      "metadata": {
        "colab": {
          "base_uri": "https://localhost:8080/"
        },
        "id": "ddPw1z6Th9_B",
        "outputId": "34b274ed-c2db-4c5f-dc82-2d47ea77a778"
      },
      "execution_count": null,
      "outputs": [
        {
          "output_type": "execute_result",
          "data": {
            "text/plain": [
              "7"
            ]
          },
          "metadata": {},
          "execution_count": 16
        }
      ]
    },
    {
      "cell_type": "code",
      "source": [
        "# to split the strings\n",
        "Students_name ='Mayank, Ravi, Mohan, Rahul, Amol'\n",
        "Students_name.split(',')\n",
        "Students_name"
      ],
      "metadata": {
        "colab": {
          "base_uri": "https://localhost:8080/",
          "height": 36
        },
        "id": "IoJ18BsBjfUb",
        "outputId": "2518f402-344c-46f7-e1be-8901b526da69"
      },
      "execution_count": null,
      "outputs": [
        {
          "output_type": "execute_result",
          "data": {
            "text/plain": [
              "'Mayank, Ravi, Mohan, Rahul, Amol'"
            ],
            "application/vnd.google.colaboratory.intrinsic+json": {
              "type": "string"
            }
          },
          "metadata": {},
          "execution_count": 17
        }
      ]
    },
    {
      "cell_type": "code",
      "source": [
        "#To find the indexing of a charecter or substring in string\n",
        "Students_name =('Mayank, Ravi, Mohan, Rahul, Amol')\n",
        "Students_name.find('Ravi')"
      ],
      "metadata": {
        "colab": {
          "base_uri": "https://localhost:8080/"
        },
        "id": "0ttrq-TdjfQI",
        "outputId": "a7d2528a-228f-4984-bd4b-bc2584007d36"
      },
      "execution_count": null,
      "outputs": [
        {
          "output_type": "execute_result",
          "data": {
            "text/plain": [
              "8"
            ]
          },
          "metadata": {},
          "execution_count": 19
        }
      ]
    },
    {
      "cell_type": "code",
      "source": [
        "# python automatically give space when there is comma\n",
        "print('Hello World!',2+2,'this is python')"
      ],
      "metadata": {
        "id": "XkA__KGqjfLN",
        "outputId": "cded3638-35a0-41ab-ecb6-5debccf89723",
        "colab": {
          "base_uri": "https://localhost:8080/"
        }
      },
      "execution_count": null,
      "outputs": [
        {
          "output_type": "stream",
          "name": "stdout",
          "text": [
            "Hello World! 4 this is python\n"
          ]
        }
      ]
    },
    {
      "cell_type": "code",
      "source": [
        "# if we dont want space then we have to give separater sep =''\n",
        "print('Hello World!',2+2,'this is python', sep='')"
      ],
      "metadata": {
        "id": "SWHiW-S8jfGS",
        "outputId": "b9bf486e-1963-49d0-bc32-fcca6a59f834",
        "colab": {
          "base_uri": "https://localhost:8080/"
        }
      },
      "execution_count": null,
      "outputs": [
        {
          "output_type": "stream",
          "name": "stdout",
          "text": [
            "Hello World!4this is python\n"
          ]
        }
      ]
    },
    {
      "cell_type": "code",
      "source": [
        "print('Hello World!',2+2,'this is python', sep='asdf')"
      ],
      "metadata": {
        "id": "v6fAR0FjjfBb"
      },
      "execution_count": null,
      "outputs": []
    },
    {
      "cell_type": "code",
      "source": [
        "# Concatenate - concatenation is possible only between two integers or two strings. Integers cant be concatenate with string.\n",
        "a = (1,2,3,4)\n",
        "b = (3,4,5,6)\n",
        "c = a+b\n",
        "print(c)\n",
        "len(c)"
      ],
      "metadata": {
        "id": "tNDVXeYBje7C"
      },
      "execution_count": null,
      "outputs": []
    },
    {
      "cell_type": "code",
      "source": [
        "print('hello'+'world')"
      ],
      "metadata": {
        "id": "6Wzrf3_AxH1E"
      },
      "execution_count": null,
      "outputs": []
    },
    {
      "cell_type": "code",
      "source": [
        "a = 'Mayank'\n",
        "b= 'Sharma'\n",
        "c= a+b\n",
        "print(c)\n",
        "print(a+b)"
      ],
      "metadata": {
        "id": "C19eL-TwxHu2"
      },
      "execution_count": null,
      "outputs": []
    },
    {
      "cell_type": "code",
      "source": [
        "print('Mayank '+'Sharma')"
      ],
      "metadata": {
        "id": "rolkvgbJxHr-"
      },
      "execution_count": null,
      "outputs": []
    },
    {
      "cell_type": "code",
      "source": [
        "#explicit declaration of integers to string in python can concatenate integers with python, explicit declaration forces python to think two different data types as one data type.\n",
        "print('I earn $'+ str(1000)+ ' per month')"
      ],
      "metadata": {
        "id": "YEdX4qi-xHok"
      },
      "execution_count": null,
      "outputs": []
    },
    {
      "cell_type": "markdown",
      "source": [
        "#2) Variables- Data is stored in variable, which can be further extracted."
      ],
      "metadata": {
        "id": "6xEaoiTAxYtu"
      }
    },
    {
      "cell_type": "code",
      "source": [
        "Name = ('Mayank','Mohan','Rahul','Shyam')\n",
        "Name\n",
        "# Name is variable here and Mayank, Mohan, Rahul and Shyam are different datas stored in Name variable with assignmnet (equal to = )operator. Variable has letter alphabet to start not numbers or special charecters except underscore."
      ],
      "metadata": {
        "colab": {
          "base_uri": "https://localhost:8080/"
        },
        "id": "xM_8Pt39xHjh",
        "outputId": "c7dc43e9-9f56-4a5e-d4e7-86a57ca3de11"
      },
      "execution_count": null,
      "outputs": [
        {
          "output_type": "execute_result",
          "data": {
            "text/plain": [
              "('Mayank', 'Mohan', 'Rahul', 'Shyam')"
            ]
          },
          "metadata": {},
          "execution_count": 20
        }
      ]
    },
    {
      "cell_type": "code",
      "source": [
        "# A store sold an Apple iPhone of 4GB and 128GB for $900, store this information in variables brand, RAM , Storage and price.\n",
        "price= 900\n",
        "print('The price of the mobile is $',price,sep='')\n",
        "type(price)"
      ],
      "metadata": {
        "id": "9qzhelPwxHaa"
      },
      "execution_count": null,
      "outputs": []
    },
    {
      "cell_type": "code",
      "source": [
        "Brand= 'Apple'\n",
        "print('The brand of mobile phone is',Brand)\n",
        "type(Brand)"
      ],
      "metadata": {
        "id": "BVGm_BqjxtKh"
      },
      "execution_count": null,
      "outputs": []
    },
    {
      "cell_type": "code",
      "source": [
        "RAM = 4\n",
        "print('The RAM of the mobile is',RAM,'GB')\n",
        "type(RAM)"
      ],
      "metadata": {
        "id": "0opXQjy4xtHg"
      },
      "execution_count": null,
      "outputs": []
    },
    {
      "cell_type": "code",
      "source": [
        "Storage= 128\n",
        "print('The internal storage of phone is',Storage,'GB')\n",
        "type(Storage)"
      ],
      "metadata": {
        "id": "ndoK0zv6xtEp"
      },
      "execution_count": null,
      "outputs": []
    },
    {
      "cell_type": "code",
      "source": [
        "# an apple phone has 4.5% discount, calculate the discount price.\n",
        "price = 900\n",
        "discount = 4.5\n",
        "discount_price = 900*0.045\n",
        "print(discount_price)\n",
        "total_price = (price-discount_price)\n",
        "print(total_price)\n",
        "print('The discount price of mobile is $'+ str(total_price))"
      ],
      "metadata": {
        "id": "Dx9L9QEhxtBZ"
      },
      "execution_count": null,
      "outputs": []
    },
    {
      "cell_type": "code",
      "source": [
        "type(price)"
      ],
      "metadata": {
        "id": "0KGkr6pnxs-J"
      },
      "execution_count": null,
      "outputs": []
    },
    {
      "cell_type": "code",
      "source": [
        "type(discount)"
      ],
      "metadata": {
        "id": "hyuYdEVtxs5Q"
      },
      "execution_count": null,
      "outputs": []
    },
    {
      "cell_type": "code",
      "source": [
        "type(discount_price)"
      ],
      "metadata": {
        "id": "Tzb_QQBPxszh"
      },
      "execution_count": null,
      "outputs": []
    },
    {
      "cell_type": "code",
      "source": [
        "#explicit declaration doesn't change the originality of the data type, it just forces python to consider two different data type to be of same data type\n",
        "type(total_price)"
      ],
      "metadata": {
        "id": "rr4hWV2kyBFZ"
      },
      "execution_count": null,
      "outputs": []
    },
    {
      "cell_type": "markdown",
      "source": [
        "#3 Data Structures - Data Structures includes: Lists, Tuples, Dictionary and Set\n",
        "In Data Structures we can store multiple data entries in one variable"
      ],
      "metadata": {
        "id": "AgeT2yFLyDjb"
      }
    },
    {
      "cell_type": "code",
      "source": [
        "# Variable with single data type\n",
        "Brand = 'Apple'\n",
        "Brand"
      ],
      "metadata": {
        "id": "2LjcI44hyBAi"
      },
      "execution_count": null,
      "outputs": []
    },
    {
      "cell_type": "markdown",
      "source": [
        "##a) List\n",
        "List is an heterogeneous ordered collection of various data entries stored in a variable in side square brackets[]. Create a list, indexing, remove and add items in list so List is mutable. Data entries can be changed. Values are stored in indexes like-0,1,2,3,... etc)."
      ],
      "metadata": {
        "id": "xGQ_KORnyZB3"
      }
    },
    {
      "cell_type": "code",
      "source": [
        "# Store Apple, Samsung, LG and Apple in Brand variable using List []\n",
        "Brand_list = ['Apple','Samsung','LG','Apple']\n",
        "print(Brand_list)\n",
        "type(Brand)"
      ],
      "metadata": {
        "id": "kg7QTBEbyA8A"
      },
      "execution_count": null,
      "outputs": []
    },
    {
      "cell_type": "code",
      "source": [
        "# creating List for RAM, Storage and price\n",
        "RAM_list = [4,12,8,8]\n",
        "Storage_list = [128,128,64,128]\n",
        "price_list = [900,899,600,1000]\n",
        "print(RAM_list)\n",
        "print(Storage_list)\n",
        "print(price_list)"
      ],
      "metadata": {
        "id": "H0YXjGzhyA2Z"
      },
      "execution_count": null,
      "outputs": []
    },
    {
      "cell_type": "code",
      "source": [
        "# To know minimum and maxium value in the list\n",
        "min_value = min(RAM)\n",
        "max_value = max(RAM)\n",
        "print('The minimum storage of RAM is',str(min_value),'GB')\n",
        "print('The maximum storage of RAM is',str(max_value),'GB')"
      ],
      "metadata": {
        "id": "3jQOfQjKyVgf"
      },
      "execution_count": null,
      "outputs": []
    },
    {
      "cell_type": "code",
      "source": [
        "# to know the third value in RAM list, to know the position we have to use indexing. Indexing of python starts from 0 and the last indexing from -1\n",
        "RAM = [4,12,8,8]\n",
        "RAM[2]\n",
        "RAM[-2]"
      ],
      "metadata": {
        "id": "JuVYrG53yVc3"
      },
      "execution_count": null,
      "outputs": []
    },
    {
      "cell_type": "code",
      "source": [
        "# If we want first 3 values, in [] thing before colon is included and thing after colon is excluded\n",
        "RAM = [4,12,8,8]\n",
        "RAM[0:3]"
      ],
      "metadata": {
        "id": "gu8-jz9_yVZG"
      },
      "execution_count": null,
      "outputs": []
    },
    {
      "cell_type": "code",
      "source": [
        "# If we want first 3 values\n",
        "RAM = [4,12,8,8]\n",
        "RAM[0:-1]"
      ],
      "metadata": {
        "id": "Wu-F8Fh0ymBJ"
      },
      "execution_count": null,
      "outputs": []
    },
    {
      "cell_type": "code",
      "source": [
        "# If we want to edit the list we can delete and then add using pop and append function or writing the index and then assign the value which we want to replace. If we are using pop function we can delete by mentioning the index number after pop, if we are not mentioning any index value then pop will automatically delete the last value.\n",
        "Brand = ['Apple','Samsung','LG','Apple']\n",
        "Brand.pop()\n",
        "Brand.append('Google')\n",
        "print(Brand)"
      ],
      "metadata": {
        "id": "1GRWt7GAyl9y"
      },
      "execution_count": null,
      "outputs": []
    },
    {
      "cell_type": "code",
      "source": [
        "# If we want to delete the 2nd value using pop function\n",
        "Brand = ['Apple','Samsung','LG','Apple']\n",
        "Brand.pop(1)\n",
        "print(Brand)"
      ],
      "metadata": {
        "id": "Ta8ikJ98yl4B"
      },
      "execution_count": null,
      "outputs": []
    },
    {
      "cell_type": "code",
      "source": [
        "# If we want to delete the last value\n",
        "Brand = ['Apple','Samsung','LG','Apple']\n",
        "Brand.pop(-1)\n",
        "print(Brand)"
      ],
      "metadata": {
        "id": "NTXB4gpByl06"
      },
      "execution_count": null,
      "outputs": []
    },
    {
      "cell_type": "code",
      "source": [
        "# writing the index and then assign the value which we want to add\n",
        "Brand[3] = 'Motorola'\n",
        "print(Brand)"
      ],
      "metadata": {
        "id": "vJ5yuFSRylxJ"
      },
      "execution_count": null,
      "outputs": []
    },
    {
      "cell_type": "code",
      "source": [
        "# concatenating two List-\n",
        "List1 = [1,2,3,4]\n",
        "List2 = [3,4,5,6]\n",
        "List3 = (List1+List2)\n",
        "print(List3)"
      ],
      "metadata": {
        "id": "656oxNAPyls7"
      },
      "execution_count": null,
      "outputs": []
    },
    {
      "cell_type": "code",
      "source": [
        "# concatenating two List- concatenation is sequence dependent\n",
        "List1 = [1,2,3,4]\n",
        "List2 = [3,4,5,6]\n",
        "List3 = (List2+List1)\n",
        "print(List3)"
      ],
      "metadata": {
        "id": "EKEGMV2Qy_Zp"
      },
      "execution_count": null,
      "outputs": []
    },
    {
      "cell_type": "code",
      "source": [
        "# concatenating and multiplication\n",
        "List1 = [1,2,3,4]\n",
        "List2 = [3,4,5,6]\n",
        "List3 = (List1 *2 + List2)\n",
        "print(List3)"
      ],
      "metadata": {
        "id": "UFCEgx6Jy_Uh"
      },
      "execution_count": null,
      "outputs": []
    },
    {
      "cell_type": "code",
      "source": [
        "#to reverse the sequence of list-\n",
        "List1 = [1,2,3,4]\n",
        "List1.reverse()\n",
        "print(List1)"
      ],
      "metadata": {
        "id": "novT856cy_QR"
      },
      "execution_count": null,
      "outputs": []
    },
    {
      "cell_type": "code",
      "source": [
        "#to inset any item in List-\n",
        "List1 = [1,2,3,4]\n",
        "List1.insert(2,'Sparta!')\n",
        "print(List1)"
      ],
      "metadata": {
        "id": "HIUrnY83y_KS"
      },
      "execution_count": null,
      "outputs": []
    },
    {
      "cell_type": "code",
      "source": [
        "# to sort a List- We cant have a mixture of string and numeric data to support sort function, Either a data type has to only string or only numeric\n",
        "List1 = [1,2,3,4,'Deepak','Mayank','Abhilash']\n",
        "List1.sort()\n",
        "print(List1)"
      ],
      "metadata": {
        "id": "ssoUjJHcy_HI"
      },
      "execution_count": null,
      "outputs": []
    },
    {
      "cell_type": "code",
      "source": [
        "# to sort a List- We cant have a mixture of string and numeric data to support sort function, Either a data type has to only string or only numeric\n",
        "List1 = [2,10,8,19,20,100,1,0]\n",
        "List1.sort()\n",
        "print(List1)"
      ],
      "metadata": {
        "id": "9JCRRSTpy_DQ"
      },
      "execution_count": null,
      "outputs": []
    },
    {
      "cell_type": "code",
      "source": [
        "# to sort a List- We cant have a mixture of string and numeric data to support sort function, Either a data type has to only string or only numeric\n",
        "List1 = ['Delhi','Mumbai','Bangalore','Ahmedabad']\n",
        "List1.sort()\n",
        "print(List1)"
      ],
      "metadata": {
        "id": "ruBHt3jiy-9f"
      },
      "execution_count": null,
      "outputs": []
    },
    {
      "cell_type": "markdown",
      "source": [
        "##b) Tuple - Tuple is heterogenous ordered collection of data in one variable denoted as parenthesis (). Tuple is immutable, data entry can not be changed. we can access data entry using indexing like how we did in List. Values are stored in indexes like-0,1,2,3,... etc). Heterogenous(numeric, string, boolean) data are stored in Tuples"
      ],
      "metadata": {
        "id": "CZcJpCx-zSwi"
      }
    },
    {
      "cell_type": "code",
      "source": [
        "Storage = (128,128,64,128)\n",
        "type(Storage)"
      ],
      "metadata": {
        "id": "oN3C_jaBzNJY"
      },
      "execution_count": null,
      "outputs": []
    },
    {
      "cell_type": "code",
      "source": [
        "# to find third value\n",
        "Storage[2]"
      ],
      "metadata": {
        "id": "-YXLjjOpzNE2"
      },
      "execution_count": null,
      "outputs": []
    },
    {
      "cell_type": "code",
      "source": [
        "# to select data entry in between the values, to print first 2 values from data entry\n",
        "Storage[0:2]"
      ],
      "metadata": {
        "id": "DCzwbkxDzNAQ"
      },
      "execution_count": null,
      "outputs": []
    },
    {
      "cell_type": "code",
      "source": [
        "X=(20,23,-50,5.6,98)\n",
        "print(X[2:-1])"
      ],
      "metadata": {
        "id": "NC1_1Tz3zcCI"
      },
      "execution_count": null,
      "outputs": []
    },
    {
      "cell_type": "code",
      "source": [
        "# concatenate two tuples-\n",
        "Tup1 = (1,2,3,4)\n",
        "Tup2 = (3,4,5,6)\n",
        "Tup3 = Tup1 + Tup2\n",
        "print(Tup3)"
      ],
      "metadata": {
        "id": "LFKA90pwzbwX"
      },
      "execution_count": null,
      "outputs": []
    },
    {
      "cell_type": "code",
      "source": [
        "# concatenate two tuples- concatenation is sequence dependent\n",
        "Tup1 = (1,2,3,4)\n",
        "Tup2 = (3,4,5,6)\n",
        "Tup3 = Tup2 + Tup1\n",
        "print(Tup3)"
      ],
      "metadata": {
        "id": "4xVLAzCYzbRJ"
      },
      "execution_count": null,
      "outputs": []
    },
    {
      "cell_type": "code",
      "source": [
        "# concatenate and multiply tuples-\n",
        "Tup1 = (1,2,3,4)\n",
        "Tup2 = (3,4,5,6)\n",
        "Tup3 = Tup1*2 + Tup2\n",
        "print(Tup3)"
      ],
      "metadata": {
        "id": "VPAJWazRzqFu"
      },
      "execution_count": null,
      "outputs": []
    },
    {
      "cell_type": "code",
      "source": [
        "#to find minimum and maximum value-\n",
        "Tup1 = (1,2,3,4)\n",
        "min_value = min(Tup1)\n",
        "max_value = max(Tup1)\n",
        "print(min_value)\n",
        "print(max_value)"
      ],
      "metadata": {
        "id": "0UzEETYHzqAu"
      },
      "execution_count": null,
      "outputs": []
    },
    {
      "cell_type": "markdown",
      "source": [
        "##c) Dictonary - Dictonary is unordered collection of data, data is stored in curly brackets {} in **key:value pair** separated by colon (:). Here indexing is based on key value unlike in Tuple and List. Dictonary is mutable."
      ],
      "metadata": {
        "id": "EBPicZFmz2_e"
      }
    },
    {
      "cell_type": "code",
      "source": [
        "# Here Brand, RAM (in GB), Storage (in GB) and price are Key while Apple, 4, 128, 900 are values, Key stored the value and key is separated ith value by colon.\n",
        "Mobile_1 = {'Brand' : 'Apple',\n",
        "            'RAM (in GB)' : '4',\n",
        "            'Storage (in GB)' : '128',\n",
        "            'Price (in $)' : '900'}\n",
        "type(Mobile_1)\n",
        "Mobile_1"
      ],
      "metadata": {
        "id": "cklvyr0Uzp6b"
      },
      "execution_count": null,
      "outputs": []
    },
    {
      "cell_type": "code",
      "source": [
        "# Extract information from Dictonary\n",
        "print(Mobile_1['Brand'])\n",
        "print(Mobile_1['RAM (in GB)'])\n",
        "print(Mobile_1['Storage (in GB)'])\n",
        "print(Mobile_1['Price (in $)'])\n",
        "type(Mobile_1['Brand'])\n",
        "print('The RAM of Apple is '+ str(4)+ 'GB')\n",
        "Mobile_1['Brand']"
      ],
      "metadata": {
        "id": "E5i8yLSvzp0h"
      },
      "execution_count": null,
      "outputs": []
    },
    {
      "cell_type": "code",
      "source": [
        "# To change value in Dictonary\n",
        "Mobile_1['Brand'] = 'Motorola'\n",
        "print(Mobile_1)"
      ],
      "metadata": {
        "id": "UD2ghb6_zpua"
      },
      "execution_count": null,
      "outputs": []
    },
    {
      "cell_type": "code",
      "source": [
        "# To change value in Dictonary\n",
        "dictionary={1:\"USA\", 2:\"India\", 3:\"China\"}\n",
        "dictionary.update({3:\"Japan\"})\n",
        "print(dictionary)"
      ],
      "metadata": {
        "id": "xeUy_AJKzplZ"
      },
      "execution_count": null,
      "outputs": []
    },
    {
      "cell_type": "code",
      "source": [
        "Mobile_1['Brand'] = 'Apple'\n",
        "print(Mobile_1)"
      ],
      "metadata": {
        "id": "cQWbaRWl0U_-"
      },
      "execution_count": null,
      "outputs": []
    },
    {
      "cell_type": "code",
      "source": [
        "# creating a list inside dictonary to store more data in one variable\n",
        "Products = {'Brand':Brand_list,'RAM (in GB)':RAM_list,'Storage (in GB)':Storage_list,'price (in $)':price_list}\n",
        "print(Products)\n",
        "type(Products)"
      ],
      "metadata": {
        "id": "QtefS4500U1X"
      },
      "execution_count": null,
      "outputs": []
    },
    {
      "cell_type": "code",
      "source": [
        "# to get all the keys and values of the dictonary\n",
        "keys = Products.keys()\n",
        "values = Products.values()\n",
        "# to print keys and values in same line\n",
        "print('The keys of dictonary are:',keys)\n",
        "print('The values of dictonary are:',values)"
      ],
      "metadata": {
        "id": "bnM_A_mr0UvI"
      },
      "execution_count": null,
      "outputs": []
    },
    {
      "cell_type": "code",
      "source": [
        "# to print keys and values in different or second line we use \\n charecter\n",
        "print('The keys of dictonary are:\\n',keys)\n",
        "print('The values of dictonary are:\\n',values)"
      ],
      "metadata": {
        "id": "XPVnJaA40UpN"
      },
      "execution_count": null,
      "outputs": []
    },
    {
      "cell_type": "code",
      "source": [
        "#to extract all the items-\n",
        "Products.items()"
      ],
      "metadata": {
        "id": "A9zw3_730UhV"
      },
      "execution_count": null,
      "outputs": []
    },
    {
      "cell_type": "code",
      "source": [
        "# to retrive information from dictonary\n",
        "Products['Brand']"
      ],
      "metadata": {
        "id": "RocX6thO0UXd"
      },
      "execution_count": null,
      "outputs": []
    },
    {
      "cell_type": "code",
      "source": [
        "# to retrive specific information\n",
        "# eg- RAM of second phone\n",
        "Products['RAM (in GB)'][1]"
      ],
      "metadata": {
        "id": "jZa0ZeHI0yAx"
      },
      "execution_count": null,
      "outputs": []
    },
    {
      "cell_type": "code",
      "source": [
        "#price of third phone\n",
        "Products['price (in $)'][2]"
      ],
      "metadata": {
        "id": "GfVyFxAT0x7v"
      },
      "execution_count": null,
      "outputs": []
    },
    {
      "cell_type": "code",
      "source": [
        "# to delete item from dictonary\n",
        "dictionary={1:\"USA\", 2:\"India\", 3:\"China\"}\n",
        "dictionary.pop(2)\n",
        "print(dictionary)"
      ],
      "metadata": {
        "id": "Kebq6H3o0x2v"
      },
      "execution_count": null,
      "outputs": []
    },
    {
      "cell_type": "code",
      "source": [
        "# to concatenate two dictonary we use update\n",
        "fruit_1={'Apple':10,'Orange':30,'Banana':40}\n",
        "fruit_2={'Watermelon':50,'Mango':100}\n",
        "fruit_1.update(fruit_2)\n",
        "fruit_1"
      ],
      "metadata": {
        "id": "CCUGyIUz0557"
      },
      "execution_count": null,
      "outputs": []
    },
    {
      "cell_type": "markdown",
      "source": [
        "####Conditional Statements- if else and elif"
      ],
      "metadata": {
        "id": "9NhgVUiQ33SQ"
      }
    },
    {
      "cell_type": "code",
      "source": [
        "# if-else conditional statements\n",
        "# syntax- if (test expression):\n",
        "# syntax Statements( to be executed if test expression is True)\n",
        "# syntax else:\n",
        "#syntax  Statements( to be executed if test expression is False)\n",
        "price = 900\n",
        "budget = 1000\n",
        "if price <= budget:\n",
        "  print('Congratulations! you can purchase iphone')\n",
        "else:\n",
        "  print('Sorry! you cannot purchase iphone')"
      ],
      "metadata": {
        "colab": {
          "base_uri": "https://localhost:8080/"
        },
        "id": "UD2ZJJsJ3z1V",
        "outputId": "8aa1dca5-72b7-4c12-d261-53773ac4c11d"
      },
      "execution_count": null,
      "outputs": [
        {
          "output_type": "stream",
          "name": "stdout",
          "text": [
            "Congratulations! you can purchase iphone\n"
          ]
        }
      ]
    },
    {
      "cell_type": "code",
      "source": [
        "# issue in pre-conditioning\n",
        "price = 900\n",
        "budget = int(input('Enter your budget (in dollars):'))\n",
        "if price <= budget:\n",
        "  print('Congratulations! you can purchase iphone')\n",
        "else:\n",
        "  print('Sorry! you cant not purchase iphone')"
      ],
      "metadata": {
        "id": "94rjjmMz38_T"
      },
      "execution_count": null,
      "outputs": []
    },
    {
      "cell_type": "code",
      "source": [
        "# issue in pre-conditioning\n",
        "a = int(input('Enter a number: '))\n",
        "b = 5\n",
        "if a>b :\n",
        "  print(\"a is greater than b\")\n",
        "else :\n",
        "  print('b is greater than a')"
      ],
      "metadata": {
        "id": "VH6OXx8Y3zt6"
      },
      "execution_count": null,
      "outputs": []
    },
    {
      "cell_type": "markdown",
      "source": [
        "elif condition\n",
        "\n",
        "if (test expression):\n",
        "\n",
        "    print('body of if\")\n",
        "\n",
        "elif (test expression):\n",
        "\n",
        "     print('body of elif')\n",
        "\n",
        "else:\n",
        "\n",
        "      print('body of else)"
      ],
      "metadata": {
        "id": "ZFJiVCP-4Mk5"
      }
    },
    {
      "cell_type": "code",
      "source": [
        "budget= 650\n",
        "iphone_price = 1000\n",
        "motorola_price = 800\n",
        "LG_price = 600\n",
        "if budget >= iphone_price:\n",
        "  print('you can buy iphone')\n",
        "elif budget >= motorola_price:\n",
        "  print('You can buy motorola phone')\n",
        "else:\n",
        "  print('You can buy LG phone')"
      ],
      "metadata": {
        "id": "1kYFobof3zlD"
      },
      "execution_count": null,
      "outputs": []
    },
    {
      "cell_type": "markdown",
      "source": [
        "#### Looping Statement- For and While loop. Before working on looping lets see abput range function (). Range fuction() returns an immutable sequence of numbers between the given start and stop integer. Like indexing here start is included and stop is excluded."
      ],
      "metadata": {
        "id": "B0f_bo0F4kXo"
      }
    },
    {
      "cell_type": "code",
      "source": [
        "print(range(6))"
      ],
      "metadata": {
        "id": "RIOrCZCf3zXy"
      },
      "execution_count": null,
      "outputs": []
    },
    {
      "cell_type": "code",
      "source": [
        "print(list(range(6)))"
      ],
      "metadata": {
        "id": "7NTNgKde382r"
      },
      "execution_count": null,
      "outputs": []
    },
    {
      "cell_type": "code",
      "source": [
        "print(list(range(2,6)))"
      ],
      "metadata": {
        "id": "JaJOOrXQ38tb"
      },
      "execution_count": null,
      "outputs": []
    },
    {
      "cell_type": "code",
      "source": [
        "print(list(range(2,15,2)))"
      ],
      "metadata": {
        "id": "KtVbjfqw4mYu"
      },
      "execution_count": null,
      "outputs": []
    },
    {
      "cell_type": "code",
      "source": [
        "print(list(range(2,14,2)))"
      ],
      "metadata": {
        "id": "C3E-exty4mV3"
      },
      "execution_count": null,
      "outputs": []
    },
    {
      "cell_type": "code",
      "source": [
        "#for loop, mobile shop offering 5%,10%,15% and 20% discount on mobile price, calculate the discount price\n",
        "price = 1000\n",
        "for i in range(5, 21, 5):\n",
        "  discount = price * (i/100)\n",
        "  discounted_price = price - discount\n",
        "  print('The price after providing ',i, '% discount is $', discounted_price, sep='')"
      ],
      "metadata": {
        "id": "q_GD43Ix469V"
      },
      "execution_count": null,
      "outputs": []
    },
    {
      "cell_type": "code",
      "source": [
        "price = 1000\n",
        "for i in range(5,10,15):\n",
        "  discount = price * (i/100)\n",
        "  discounted_price = price - discount\n",
        "  print('The price after provididng discount of ', i, '% discount is $', discounted_price, sep='')"
      ],
      "metadata": {
        "id": "hDDhHsYx5AQE"
      },
      "execution_count": null,
      "outputs": []
    },
    {
      "cell_type": "code",
      "source": [
        "#for loop\n",
        "L1= ['Orange','Apple','Mango']\n",
        "for i in L1:\n",
        "  print(i)"
      ],
      "metadata": {
        "id": "jlb7wptP5ADD"
      },
      "execution_count": null,
      "outputs": []
    },
    {
      "cell_type": "code",
      "source": [
        "#Nested for- here two loops are created outer loop and inner loop, here i is assigned in outer loop and j is in inner loop. First charecter in outer look wil be read by i and then it will enter into inner loop j and completely execute the inner loop with first charecter of outer loop\n",
        "Name_list =['Mayank','Ravi','Deepak','Shyam'] # (statement of outer loop)\n",
        "Surname_list = ['Sharma','Verma','Gupta','Agrawal'] # (statement of inner loop)\n",
        "for i in Name_list: # (inner loop)\n",
        "    for j in Surname_list:  # (outer loop)\n",
        "        print(i,j)"
      ],
      "metadata": {
        "id": "09LZoxmz4_7M"
      },
      "execution_count": null,
      "outputs": []
    },
    {
      "cell_type": "code",
      "source": [
        "sum = 0\n",
        "for number in range(1,5):\n",
        "    sum = sum + number\n",
        "print(sum)"
      ],
      "metadata": {
        "id": "Jv4sJQ8w4_x6"
      },
      "execution_count": null,
      "outputs": []
    },
    {
      "cell_type": "code",
      "source": [
        "# while loop with i += 5, or i = i + 5, it stops executing the loop once i cros the value above 20, eg- when i = 25\n",
        "price = 1000\n",
        "i = 5\n",
        "while i <= 20:\n",
        "  discount = price * (i/100)\n",
        "  discounted_price = price - discount\n",
        "  print('The price after providing ',i, '% discount is $', discounted_price, sep='')\n",
        "  i = i + 5\n",
        "  print(i)"
      ],
      "metadata": {
        "id": "CoScBRFY5LX3"
      },
      "execution_count": null,
      "outputs": []
    },
    {
      "cell_type": "code",
      "source": [
        "x = [1, 2, 3, 4, 5]\n",
        "while x:\n",
        "  print(x.pop(0))\n",
        "  print(x)"
      ],
      "metadata": {
        "id": "4zWM7HA-5LJt"
      },
      "execution_count": null,
      "outputs": []
    },
    {
      "cell_type": "code",
      "source": [
        "x = [1, 2, 3, 4, 5]\n",
        "while x:\n",
        "  print(x.pop(-1))\n",
        "  print(x)\n"
      ],
      "metadata": {
        "id": "Zma95ftz5LAE"
      },
      "execution_count": null,
      "outputs": []
    },
    {
      "cell_type": "markdown",
      "source": [
        "####List comprehension"
      ],
      "metadata": {
        "id": "8463GrLX5d-G"
      }
    },
    {
      "cell_type": "code",
      "source": [
        "# Mobiworld has discount of 5% in all the mobiles, we want to check the prices of all mobile phones\n",
        "discounted_price_list = []\n",
        "for x in price_list:\n",
        "  discounted_price = x - (x * (5/100))\n",
        "  discounted_price_list.append(discounted_price)\n",
        "  print(discounted_price_list)"
      ],
      "metadata": {
        "id": "sGVCZ0In5ShL"
      },
      "execution_count": null,
      "outputs": []
    },
    {
      "cell_type": "code",
      "source": [
        "# syntax desciption - the outer square brackets [] tell that we are creating list, x-(x*(5/100)) is mathematical equation for computing the task, for x in price_list is the iterator from which element (x) will be fetched\n",
        "discounted_price_list = [x-(x*(5/100)) for x in price_list]\n",
        "print(discounted_price_list)"
      ],
      "metadata": {
        "id": "4vxRjOLa7MJ-"
      },
      "execution_count": null,
      "outputs": []
    },
    {
      "cell_type": "code",
      "source": [
        "# to login\n",
        "Login_ID = int(input('Enter your Login ID'))\n",
        "if Login_ID == 819670:\n",
        "  print('Enter your password')\n",
        "else:\n",
        "  print('Invalid Login ID')"
      ],
      "metadata": {
        "id": "uZiv2u9V5SI8"
      },
      "execution_count": null,
      "outputs": []
    },
    {
      "cell_type": "code",
      "source": [
        "# combining if-else conditional statement with for loop\n",
        "budget = int(input('Enter your budget (in $)'))\n",
        "within_budget = ['yes' if x <= budget else 'no' for x in discounted_price_list]\n",
        "print(within_budget)"
      ],
      "metadata": {
        "id": "hOp1bKm75R-U"
      },
      "execution_count": null,
      "outputs": []
    },
    {
      "cell_type": "code",
      "source": [
        "winthin_budget = []\n",
        "for x in discounted_price_list:\n",
        "  if x <= budget:\n",
        "    within_budget.append('yes')\n",
        "  else:\n",
        "    within_budget.append('no')\n",
        "print(within_budget)"
      ],
      "metadata": {
        "id": "WigswyMg7MFe"
      },
      "execution_count": null,
      "outputs": []
    },
    {
      "cell_type": "code",
      "source": [
        "list_1 = [1, 2, 3, 4, 5]\n",
        "list_comp = [ i for i in list_1 ]\n",
        "print(list_comp)"
      ],
      "metadata": {
        "id": "zrSDsM4h7MAd"
      },
      "execution_count": null,
      "outputs": []
    },
    {
      "cell_type": "markdown",
      "source": [
        "####Exercise"
      ],
      "metadata": {
        "id": "wSWMzc_O7d5s"
      }
    },
    {
      "cell_type": "code",
      "source": [
        "Name_list= ['Mayank','Ravi','Mohan','Deepak','Shyam']\n",
        "Name_list[1]= 'Mat'\n",
        "Name_list.append('Sam')\n",
        "print(Name_list)"
      ],
      "metadata": {
        "id": "h0XkLz1y7L7w"
      },
      "execution_count": null,
      "outputs": []
    },
    {
      "cell_type": "code",
      "source": [
        "Name_list"
      ],
      "metadata": {
        "id": "nZeb3YAN7su-"
      },
      "execution_count": null,
      "outputs": []
    },
    {
      "cell_type": "code",
      "source": [
        "Rank_list = [1,4,6,3,5,2]\n",
        "Rank_list"
      ],
      "metadata": {
        "id": "OPbJ2P2F7spw"
      },
      "execution_count": null,
      "outputs": []
    },
    {
      "cell_type": "code",
      "source": [
        "Name_list = ['Mayank', 'Mat', 'Mohan', 'Deepak', 'Shyam', 'Sam']\n",
        "Rank_list = [1, 4, 6, 3, 5, 2]\n",
        "Section_1 ={'Name':Name_list,'Rank':Rank_list}\n",
        "Section_1.items()"
      ],
      "metadata": {
        "id": "D6Vp3riR7sk5"
      },
      "execution_count": null,
      "outputs": []
    },
    {
      "cell_type": "code",
      "source": [
        "Rank = int(input('Enter your rank '))\n",
        "Gold_medal = ['Yes' if x<=2 else 'No' for x in Rank_list]\n",
        "print(Gold_medal)"
      ],
      "metadata": {
        "id": "CI3rCNia7sgo"
      },
      "execution_count": null,
      "outputs": []
    },
    {
      "cell_type": "code",
      "source": [
        "fruit_1={'Apple':10,'Orange':30,'Banana':40}\n",
        "fruit_1['Grapes']=60\n",
        "print(fruit_1)"
      ],
      "metadata": {
        "id": "vMxF-zuo7scg"
      },
      "execution_count": null,
      "outputs": []
    },
    {
      "cell_type": "code",
      "source": [
        "fruit_1={'Apple':10,'Orange':30,'Banana':40}\n",
        "fruit_1['Apple']=15\n",
        "print(fruit_1)"
      ],
      "metadata": {
        "id": "o48PQkok7sYh"
      },
      "execution_count": null,
      "outputs": []
    },
    {
      "cell_type": "code",
      "source": [
        "# to concatenate two dictonary we use update\n",
        "fruit_1={'Apple':10,'Orange':30,'Banana':40}\n",
        "fruit_2={'Watermelon':50,'Mango':100}\n",
        "fruit_1.update(fruit_2)\n",
        "fruit_1"
      ],
      "metadata": {
        "id": "C6DteF_Q7sUl"
      },
      "execution_count": null,
      "outputs": []
    },
    {
      "cell_type": "code",
      "source": [
        "fruit_1.pop('Apple')\n",
        "fruit_1"
      ],
      "metadata": {
        "id": "gX46IUc67sQl"
      },
      "execution_count": null,
      "outputs": []
    },
    {
      "cell_type": "code",
      "source": [
        "#if-else\n",
        "fruit_1 = {'Apple':10,'Orange':30,'Banana':40}\n",
        "if fruit_1['Orange']==30:\n",
        "  fruit_1['Orange']+= 100\n",
        "print(fruit_1)"
      ],
      "metadata": {
        "id": "x9Dp7D9l7sMk"
      },
      "execution_count": null,
      "outputs": []
    },
    {
      "cell_type": "code",
      "source": [
        "# while loop - first 10 integers\n",
        "i=1\n",
        "while i<=10:\n",
        "  print(i)\n",
        "  i=i+1"
      ],
      "metadata": {
        "id": "1bwSAkLe7sJI"
      },
      "execution_count": null,
      "outputs": []
    },
    {
      "cell_type": "code",
      "source": [
        "# to write mathematical table\n",
        "i = 1\n",
        "n = int(input('Enter a number '))\n",
        "while i<=10:\n",
        "  print(n,'*',i,'=',n*i)\n",
        "  i=i+1"
      ],
      "metadata": {
        "id": "9Cw8M3Th7sFw"
      },
      "execution_count": null,
      "outputs": []
    },
    {
      "cell_type": "markdown",
      "source": [
        "##d) Set- Unordered and unindexed collection of items in curly braces{}. Data are not placed in order and we cant extract the index of data in set. Duplicates are not allowed in Set"
      ],
      "metadata": {
        "id": "du_Ybq9d8Ruq"
      }
    },
    {
      "cell_type": "code",
      "source": [
        "Set_1 ={1,'Mayank',1,'Mayank'}\n",
        "Set_1"
      ],
      "metadata": {
        "id": "WARN1-I97sBo"
      },
      "execution_count": null,
      "outputs": []
    },
    {
      "cell_type": "code",
      "source": [
        "#to add, remove and add multiple values-\n",
        "Set_1 = {1,'Mayank'}\n",
        "Set_1.add(2)\n",
        "Set_1"
      ],
      "metadata": {
        "id": "OP7l6Cqd7r-q"
      },
      "execution_count": null,
      "outputs": []
    },
    {
      "cell_type": "code",
      "source": [
        "Set_1 = {1,'Mayank',2}\n",
        "Set_1.remove(2)\n",
        "Set_1"
      ],
      "metadata": {
        "colab": {
          "base_uri": "https://localhost:8080/"
        },
        "id": "qbd9vup67r2D",
        "outputId": "2d30b66c-6671-4067-f8a1-8041d993111f"
      },
      "execution_count": null,
      "outputs": [
        {
          "output_type": "execute_result",
          "data": {
            "text/plain": [
              "{1, 'Mayank'}"
            ]
          },
          "metadata": {},
          "execution_count": 22
        }
      ]
    },
    {
      "cell_type": "code",
      "source": [
        "Set_1 = {1,'Mayank',2}\n",
        "Set_1.remove('Mayank')\n",
        "Set_1"
      ],
      "metadata": {
        "id": "bcziGb-08Wwc"
      },
      "execution_count": null,
      "outputs": []
    },
    {
      "cell_type": "code",
      "source": [
        "Set_1 = {1,'Mayank'}\n",
        "Set_1.update([10,20,'Ravi'])\n",
        "Set_1"
      ],
      "metadata": {
        "id": "vy1OZKXd8Wnu"
      },
      "execution_count": null,
      "outputs": []
    },
    {
      "cell_type": "code",
      "source": [
        "# Union (like concatenate) and Intersection (common element between the sets)\n",
        "Set_1 = {1,2,3,4}\n",
        "Set_2 = {3,4,5,6}\n",
        "Set_1.union(Set_2)"
      ],
      "metadata": {
        "id": "f5W1Lv1t8n-x"
      },
      "execution_count": null,
      "outputs": []
    },
    {
      "cell_type": "code",
      "source": [
        "Set_1 = {1,2,3,4}\n",
        "Set_2 = {3,4,5,6}\n",
        "Set_1.intersection(Set_2)"
      ],
      "metadata": {
        "id": "DYzf3t0W8n63"
      },
      "execution_count": null,
      "outputs": []
    },
    {
      "cell_type": "markdown",
      "source": [
        "#4) Functions- Function is a block of instructions that perform specific tasks. We have seen few functions in python like print, min, max, len etc. In python we can define our own functions we dont have to rely on inbuilt functions.\n",
        "Functions break the program into modulaar chunks which can be reused later. Functions are used to make the program more organised and managable.\n",
        "\n",
        "**Syntax of a function**-\n",
        "\n",
        "Function that user defin themselves to a particular task is called as **user defined functions**.\n",
        "\n",
        "def function_name(parameters):\n",
        "\n",
        "  '''explain what function does'''\n",
        "  \n",
        "statement(s)"
      ],
      "metadata": {
        "id": "rSWGW7tf84B7"
      }
    },
    {
      "cell_type": "code",
      "source": [
        "#def function_name(parameters):\n",
        "#  '''explain what function does'''\n",
        "#statement(s)"
      ],
      "metadata": {
        "id": "84ckdppK8n2H"
      },
      "execution_count": null,
      "outputs": []
    },
    {
      "cell_type": "code",
      "source": [
        "# defining a function, after writing script click run to declare or redefine the function before writing command to call or execute the function eg-\n",
        "def display_iphone_attributes():\n",
        "  '''\n",
        "  This function displays\n",
        "  the stored attributes\n",
        "  of Apple iphone\n",
        "  '''\n",
        "  price = 900\n",
        "  RAM = 4\n",
        "  Storage = 128\n",
        "  print('The apple iphone has ',RAM, 'GB', ', internal storage of ',Storage,'GB' ' and costs ',price,'$.', sep = '')"
      ],
      "metadata": {
        "id": "Q4VnoLy_8nxU"
      },
      "execution_count": null,
      "outputs": []
    },
    {
      "cell_type": "code",
      "source": [
        "# executing a function by calling out. call the function will execute the function. Once the function is defined, we can call the function by writing the function name with appropriate parameters. function parameter must always be defined first before calling out otherwise it will show error.\n",
        "# call the function\n",
        "display_iphone_attributes()"
      ],
      "metadata": {
        "id": "XaN66VoF9CCy"
      },
      "execution_count": null,
      "outputs": []
    },
    {
      "cell_type": "code",
      "source": [
        "def display_phone_attributes(brand,RAM,Storage,price):\n",
        "  '''\n",
        "  This function displays\n",
        "  the stored attributes\n",
        "  of any phone\n",
        "  '''\n",
        "  print('The ',brand,' phone has ',RAM, 'GB', ', internal storage of ',Storage,'GB' ' and costs ',price,'$.', sep = '')\n",
        "display_phone_attributes('Samsung',12,128,899) #call (execute) the def function. The indexing of this function has to be outside from def function."
      ],
      "metadata": {
        "id": "nBrnE1nX9B8A"
      },
      "execution_count": null,
      "outputs": []
    },
    {
      "cell_type": "code",
      "source": [
        "# if we give 3 attributes insted of 4, we will get error message as we miss one data.\n",
        "display_phone_attributes('Samsung',12,128)"
      ],
      "metadata": {
        "id": "JT4FZcWT9B1f"
      },
      "execution_count": null,
      "outputs": []
    },
    {
      "cell_type": "code",
      "source": [
        "def discounted_price(discount):\n",
        "  '''\n",
        "  This function takes the discount\n",
        "  percentage as input and\n",
        "  returns the discounted price of Apple iphone\n",
        "  '''\n",
        "  price = 900\n",
        "  discounted_price = (price -(price*(discount/100)))\n",
        "  return discounted_price"
      ],
      "metadata": {
        "id": "2-zCpYUN9ByO"
      },
      "execution_count": null,
      "outputs": []
    },
    {
      "cell_type": "code",
      "source": [
        "# call the function with discount of 10%\n",
        "dp = discounted_price(10)\n",
        "dp"
      ],
      "metadata": {
        "id": "To_7yd259Buo"
      },
      "execution_count": null,
      "outputs": []
    },
    {
      "cell_type": "code",
      "source": [
        "#lambda function- to write code in short we can use lamda function\n",
        "price = 900\n",
        "discounted_price_lambda = lambda discount : (price - (price)*(discount/100))"
      ],
      "metadata": {
        "id": "GwqEA90s9Bpu"
      },
      "execution_count": null,
      "outputs": []
    },
    {
      "cell_type": "code",
      "source": [
        "discounted_price_lambda(10)"
      ],
      "metadata": {
        "id": "39bv_GvV9Bl-"
      },
      "execution_count": null,
      "outputs": []
    },
    {
      "cell_type": "code",
      "source": [
        "(lambda x: (x+2)*5/2)(4)"
      ],
      "metadata": {
        "id": "SKob3jcv9Bh5"
      },
      "execution_count": null,
      "outputs": []
    },
    {
      "cell_type": "code",
      "source": [
        "# *args function- *args is arguments and its flexible functions, we can name args as prices but putting star is important, star makes think python that this parameter is flexible eg- calculating total price of different phones\n",
        "def total_amount(*args): # args will iterate over loop\n",
        "  '''This function takes the price in order and retrurn the total price'''\n",
        "  total = 0 # computing total order amount\n",
        "  for i in args:\n",
        "    total = total + i\n",
        "    #return the total amount\n",
        "  return total"
      ],
      "metadata": {
        "id": "itYGBAfU9Bbw"
      },
      "execution_count": null,
      "outputs": []
    },
    {
      "cell_type": "code",
      "source": [
        "print('The total amount of phone is ',total_amount(500,1000)) #compute the price of 2 phones"
      ],
      "metadata": {
        "id": "8gdSaDgi9m-a"
      },
      "execution_count": null,
      "outputs": []
    },
    {
      "cell_type": "code",
      "source": [
        "print('The total amount of phone is ',total_amount(1000,1000,500,1000)) # compute the price of 4 phones"
      ],
      "metadata": {
        "id": "AhWR6Mgb9m3w"
      },
      "execution_count": null,
      "outputs": []
    },
    {
      "cell_type": "code",
      "source": [
        "# *kwargs - key word argumnets to declare function unorderly, eg- here *prices is *kwargs\n",
        "def total_discounted_amount(*prices, discount=0.0):\n",
        "  '''This function takes the price in order and the discount percentage and  retrurn the total discounted price'''\n",
        "  total = 0 # computing total order amount\n",
        "  for price in prices:\n",
        "    total += price\n",
        "    total_discounted_price= total - discount*total\n",
        "    return total_discounted_price"
      ],
      "metadata": {
        "id": "ho5gxs929myl"
      },
      "execution_count": null,
      "outputs": []
    },
    {
      "cell_type": "code",
      "source": [
        "print('The total discount amount is ', total_discounted_amount(1000,800,1200,1000))"
      ],
      "metadata": {
        "id": "MQqU9Ia_9mr1"
      },
      "execution_count": null,
      "outputs": []
    },
    {
      "cell_type": "code",
      "source": [],
      "metadata": {
        "id": "QQZx-mZp92Jo"
      },
      "execution_count": null,
      "outputs": []
    },
    {
      "cell_type": "code",
      "source": [],
      "metadata": {
        "id": "0SzWi6i192DW"
      },
      "execution_count": null,
      "outputs": []
    },
    {
      "cell_type": "code",
      "source": [],
      "metadata": {
        "id": "BvV__a2x91-t"
      },
      "execution_count": null,
      "outputs": []
    }
  ]
}